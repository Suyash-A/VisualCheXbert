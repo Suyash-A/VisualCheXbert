{
 "cells": [
  {
   "cell_type": "code",
   "execution_count": 1,
   "metadata": {},
   "outputs": [
    {
     "name": "stdout",
     "output_type": "stream",
     "text": [
      "IDs present in test_labeled.csv but not in input_chexpert.csv:\n",
      "['54107786', '58592606']\n"
     ]
    }
   ],
   "source": [
    "import pandas as pd\n",
    "\n",
    "# Load the test_labeled.csv file\n",
    "test_labeled_df = pd.read_csv(\"/vol/bitbucket/sga23/msc_project/data_msc_project/physionet.org/files/mimic-cxr-jpg/2.1.0/mimic-cxr-2.1.0-test-set-labeled.csv\")\n",
    "\n",
    "# Load the input_chexpert.csv file\n",
    "input_chexpert_df = pd.read_csv(\"/vol/bitbucket/sga23/msc_project/data_msc_project/cheXpert/input_chexpert.csv\", header=None, names=['study_id', 'Report'])\n",
    "\n",
    "# Remove the 's' prefix from the IDs in input_chexpert_df\n",
    "input_chexpert_df['study_id'] = input_chexpert_df['study_id'].str[1:]\n",
    "\n",
    "# Convert the study_id columns to strings for consistency\n",
    "test_labeled_df['study_id'] = test_labeled_df['study_id'].astype(str)\n",
    "input_chexpert_df['study_id'] = input_chexpert_df['study_id'].astype(str)\n",
    "\n",
    "# Identify IDs present in test_labeled.csv but not in input_chexpert.csv\n",
    "missing_ids = test_labeled_df[~test_labeled_df['study_id'].isin(input_chexpert_df['study_id'])]\n",
    "\n",
    "# Print the missing IDs\n",
    "print(\"IDs present in test_labeled.csv but not in input_chexpert.csv:\")\n",
    "print(missing_ids['study_id'].tolist())\n"
   ]
  },
  {
   "cell_type": "code",
   "execution_count": 4,
   "metadata": {},
   "outputs": [
    {
     "name": "stdout",
     "output_type": "stream",
     "text": [
      "Reordered test_labeled.csv and saved to reordered_labeled.csv\n"
     ]
    }
   ],
   "source": [
    "import pandas as pd\n",
    "\n",
    "# Load the test_labeled.csv file\n",
    "test_labeled_df = pd.read_csv(\"/vol/bitbucket/sga23/msc_project/data_msc_project/physionet.org/files/mimic-cxr-jpg/2.1.0/mimic-cxr-2.1.0-test-set-labeled.csv\")\n",
    "\n",
    "# Load the input_chexpert.csv file\n",
    "input_chexpert_df = pd.read_csv(\"/vol/bitbucket/sga23/msc_project/data_msc_project/cheXpert/input_chexpert.csv\", header=None, names=['study_id', 'Report'])\n",
    "\n",
    "# Remove the 's' prefix from the IDs in input_chexpert_df\n",
    "input_chexpert_df['study_id'] = input_chexpert_df['study_id'].str[1:]\n",
    "\n",
    "# Convert the study_id columns to strings for consistency\n",
    "test_labeled_df['study_id'] = test_labeled_df['study_id'].astype(str)\n",
    "input_chexpert_df['study_id'] = input_chexpert_df['study_id'].astype(str)\n",
    "\n",
    "# Merge dataframes to maintain the order in input_chexpert_df\n",
    "reordered_df = pd.merge(input_chexpert_df[['study_id']], test_labeled_df, on='study_id', how='left')\n",
    "\n",
    "# Save the reordered dataframe to a new file\n",
    "reordered_df.to_csv(\"/vol/bitbucket/sga23/msc_project/data_msc_project/cheXbert/reordered_labeled.csv\", index=False)\n",
    "\n",
    "print(\"Reordered test_labeled.csv and saved to reordered_labeled.csv\")\n"
   ]
  },
  {
   "cell_type": "code",
   "execution_count": null,
   "metadata": {},
   "outputs": [],
   "source": []
  }
 ],
 "metadata": {
  "kernelspec": {
   "display_name": "visualCheXbert",
   "language": "python",
   "name": "python3"
  },
  "language_info": {
   "codemirror_mode": {
    "name": "ipython",
    "version": 3
   },
   "file_extension": ".py",
   "mimetype": "text/x-python",
   "name": "python",
   "nbconvert_exporter": "python",
   "pygments_lexer": "ipython3",
   "version": "3.7.7"
  }
 },
 "nbformat": 4,
 "nbformat_minor": 2
}
